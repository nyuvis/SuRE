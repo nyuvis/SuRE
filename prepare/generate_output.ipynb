{
 "cells": [
  {
   "cell_type": "code",
   "execution_count": 1,
   "metadata": {},
   "outputs": [],
   "source": [
    "import os\n",
    "import json\n",
    "import pandas as pd\n",
    "import numpy as np\n",
    "\n",
    "from sklearn.neural_network import MLPClassifier\n",
    "\n",
    "from sklearn.model_selection import train_test_split\n",
    "from sklearn.metrics import classification_report\n",
    "from sklearn.metrics import accuracy_score"
   ]
  },
  {
   "cell_type": "code",
   "execution_count": 2,
   "metadata": {},
   "outputs": [],
   "source": [
    "data_name = 'user_defined'\n",
    "def output_data(cols, data, target_names, real_min, real_max, y_pred, y_gt):\n",
    "    filename = \"./output/\"+data_name+\"/test.json\"\n",
    "    directory = os.path.dirname(filename)\n",
    "    if not os.path.exists(directory):\n",
    "        os.makedirs(directory)\n",
    "        \n",
    "    to_output = {}\n",
    "    to_output['columns'] = cols\n",
    "    to_output['data'] = data\n",
    "    to_output['target_names'] = target_names\n",
    "    to_output['real_min'] = real_min\n",
    "    to_output['real_max'] = real_max\n",
    "    to_output['y_pred'] = y_pred\n",
    "    to_output['y_gt'] = y_gt\n",
    "    with open(filename, 'w') as output:\n",
    "        output.write(json.dumps(to_output))"
   ]
  },
  {
   "cell_type": "markdown",
   "metadata": {},
   "source": [
    "## Read Data\n",
    "You can change the code below to read your own data."
   ]
  },
  {
   "cell_type": "code",
   "execution_count": 3,
   "metadata": {},
   "outputs": [
    {
     "data": {
      "text/html": [
       "<div>\n",
       "<style scoped>\n",
       "    .dataframe tbody tr th:only-of-type {\n",
       "        vertical-align: middle;\n",
       "    }\n",
       "\n",
       "    .dataframe tbody tr th {\n",
       "        vertical-align: top;\n",
       "    }\n",
       "\n",
       "    .dataframe thead th {\n",
       "        text-align: right;\n",
       "    }\n",
       "</style>\n",
       "<table border=\"1\" class=\"dataframe\">\n",
       "  <thead>\n",
       "    <tr style=\"text-align: right;\">\n",
       "      <th></th>\n",
       "      <th>x1</th>\n",
       "      <th>x2</th>\n",
       "      <th>x3</th>\n",
       "      <th>x4</th>\n",
       "      <th>x5</th>\n",
       "      <th>y</th>\n",
       "    </tr>\n",
       "  </thead>\n",
       "  <tbody>\n",
       "    <tr>\n",
       "      <th>0</th>\n",
       "      <td>0.368111</td>\n",
       "      <td>-0.766453</td>\n",
       "      <td>-1.0</td>\n",
       "      <td>1.0</td>\n",
       "      <td>-1.0</td>\n",
       "      <td>0</td>\n",
       "    </tr>\n",
       "    <tr>\n",
       "      <th>1</th>\n",
       "      <td>0.855474</td>\n",
       "      <td>-0.245013</td>\n",
       "      <td>1.0</td>\n",
       "      <td>1.0</td>\n",
       "      <td>-1.0</td>\n",
       "      <td>0</td>\n",
       "    </tr>\n",
       "    <tr>\n",
       "      <th>2</th>\n",
       "      <td>-0.527025</td>\n",
       "      <td>0.626383</td>\n",
       "      <td>-1.0</td>\n",
       "      <td>1.0</td>\n",
       "      <td>1.0</td>\n",
       "      <td>0</td>\n",
       "    </tr>\n",
       "    <tr>\n",
       "      <th>3</th>\n",
       "      <td>0.616431</td>\n",
       "      <td>-0.475369</td>\n",
       "      <td>1.0</td>\n",
       "      <td>-1.0</td>\n",
       "      <td>1.0</td>\n",
       "      <td>0</td>\n",
       "    </tr>\n",
       "    <tr>\n",
       "      <th>4</th>\n",
       "      <td>0.016539</td>\n",
       "      <td>-0.975422</td>\n",
       "      <td>1.0</td>\n",
       "      <td>1.0</td>\n",
       "      <td>-1.0</td>\n",
       "      <td>1</td>\n",
       "    </tr>\n",
       "  </tbody>\n",
       "</table>\n",
       "</div>"
      ],
      "text/plain": [
       "         x1        x2   x3   x4   x5  y\n",
       "0  0.368111 -0.766453 -1.0  1.0 -1.0  0\n",
       "1  0.855474 -0.245013  1.0  1.0 -1.0  0\n",
       "2 -0.527025  0.626383 -1.0  1.0  1.0  0\n",
       "3  0.616431 -0.475369  1.0 -1.0  1.0  0\n",
       "4  0.016539 -0.975422  1.0  1.0 -1.0  1"
      ]
     },
     "execution_count": 3,
     "metadata": {},
     "output_type": "execute_result"
    }
   ],
   "source": [
    "df = pd.read_csv(filepath_or_buffer=\"./input/synthetic_data.csv\", header=0, index_col=None)\n",
    "df.head()"
   ]
  },
  {
   "cell_type": "code",
   "execution_count": 4,
   "metadata": {},
   "outputs": [
    {
     "name": "stdout",
     "output_type": "stream",
     "text": [
      "0.975\n"
     ]
    },
    {
     "name": "stderr",
     "output_type": "stream",
     "text": [
      "/usr/local/lib/python3.7/site-packages/sklearn/neural_network/multilayer_perceptron.py:562: ConvergenceWarning: Stochastic Optimizer: Maximum iterations (300) reached and the optimization hasn't converged yet.\n",
      "  % self.max_iter, ConvergenceWarning)\n"
     ]
    }
   ],
   "source": [
    "'''prepare data'''\n",
    "X = df.drop(columns=['y']).values\n",
    "y = df['y'].values\n",
    "y = y.reshape(len(y))\n",
    "\n",
    "train, test, train_labels, test_labels = train_test_split(X, y, test_size = 0.2)\n",
    "\n",
    "train_df = pd.DataFrame(train, columns=df.columns[:-1].values)\n",
    "test_df = pd.DataFrame(test, columns=df.columns[:-1].values)\n",
    "\n",
    "'''train the model'''\n",
    "clf = MLPClassifier(random_state=1, max_iter=300)\n",
    "clf.fit(train, train_labels)\n",
    "\n",
    "'''report accuracy'''\n",
    "print(clf.score(test,test_labels ))"
   ]
  },
  {
   "cell_type": "markdown",
   "metadata": {},
   "source": [
    "## Output Training Data"
   ]
  },
  {
   "cell_type": "code",
   "execution_count": 5,
   "metadata": {},
   "outputs": [],
   "source": [
    "''' name the target classes '''\n",
    "target_names = [\"False\", \"True\"]\n",
    "\n",
    "''' obtain the min and max values '''\n",
    "min_val = np.min(X, axis=0)\n",
    "max_val = np.max(X, axis=0)\n",
    "\n",
    "''' obtain the original model's prediction '''\n",
    "y_pred = clf.predict(train)\n",
    "\n",
    "''' output data '''\n",
    "output_data(df.columns[:-1].values.tolist(), train.tolist(), target_names, \n",
    "            min_val.tolist(), max_val.tolist(),\n",
    "            y_pred.tolist(), train_labels.tolist())"
   ]
  },
  {
   "cell_type": "code",
   "execution_count": 6,
   "metadata": {},
   "outputs": [],
   "source": [
    "''' obtain and ouput histogram for each feature '''\n",
    "\n",
    "dist_list = []\n",
    "\n",
    "for attr_idx in range(X.shape[1]):\n",
    "    hist = np.histogram(X[:, attr_idx], bins=10, range=(min_val[attr_idx], max_val[attr_idx]))\n",
    "    dist_list.append({\n",
    "        'hist': hist[0].tolist(),\n",
    "        'bin_edges': hist[1].tolist(),\n",
    "    })\n",
    "    \n",
    "with open('./output/'+ data_name + '/histogram.json', 'w') as output:\n",
    "    output.write(json.dumps({'histogram': dist_list}))"
   ]
  },
  {
   "cell_type": "code",
   "execution_count": null,
   "metadata": {},
   "outputs": [],
   "source": []
  }
 ],
 "metadata": {
  "kernelspec": {
   "display_name": "Python 3",
   "language": "python",
   "name": "python3"
  },
  "language_info": {
   "codemirror_mode": {
    "name": "ipython",
    "version": 3
   },
   "file_extension": ".py",
   "mimetype": "text/x-python",
   "name": "python",
   "nbconvert_exporter": "python",
   "pygments_lexer": "ipython3",
   "version": "3.7.6"
  }
 },
 "nbformat": 4,
 "nbformat_minor": 4
}
